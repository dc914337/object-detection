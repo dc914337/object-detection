{
 "cells": [
  {
   "cell_type": "code",
   "execution_count": 1,
   "metadata": {
    "collapsed": true,
    "ExecuteTime": {
     "start_time": "2023-04-18T17:31:25.021089Z",
     "end_time": "2023-04-18T17:31:25.021627Z"
    }
   },
   "outputs": [],
   "source": [
    "from configs.uconfig import YamlConfig\n",
    "import os\n",
    "import yaml\n",
    "import tempfile\n",
    "config = YamlConfig(\"vit_madversary_clustering.yaml\")"
   ]
  },
  {
   "cell_type": "code",
   "execution_count": 2,
   "outputs": [],
   "source": [
    "config.a=3"
   ],
   "metadata": {
    "collapsed": false,
    "ExecuteTime": {
     "start_time": "2023-04-18T17:31:25.842658Z",
     "end_time": "2023-04-18T17:31:25.852205Z"
    }
   }
  },
  {
   "cell_type": "code",
   "execution_count": 3,
   "outputs": [],
   "source": [
    "config.dataset.resolution3=36"
   ],
   "metadata": {
    "collapsed": false,
    "ExecuteTime": {
     "start_time": "2023-04-18T17:31:26.883020Z",
     "end_time": "2023-04-18T17:31:26.889516Z"
    }
   }
  },
  {
   "cell_type": "code",
   "execution_count": 23,
   "outputs": [
    {
     "name": "stdout",
     "output_type": "stream",
     "text": [
      "VIT_MADVERSARY_2:\n",
      "  decay_rate: 0.5\n",
      "  decay_steps: 50000\n",
      "  lr: 3e-5\n",
      "  masker.mae:\n",
      "    decoder_hidden_size: 512\n",
      "    decoder_intermediate_size: 2048\n",
      "    decoder_num_attention_heads: 16\n",
      "    decoder_num_hidden_layers: 4\n",
      "    hidden_size: 768\n",
      "    image_size: 36\n",
      "    intermediate_size: 3072\n",
      "    num_attention_heads: 12\n",
      "    num_hidden_layers: 5\n",
      "    patch_size: 3\n",
      "  reconstructor.mae:\n",
      "    decoder_hidden_size: 512\n",
      "    decoder_intermediate_size: 2048\n",
      "    decoder_num_attention_heads: 16\n",
      "    decoder_num_hidden_layers: 4\n",
      "    hidden_size: 768\n",
      "    image_size: 36\n",
      "    intermediate_size: 3072\n",
      "    num_attention_heads: 12\n",
      "    num_hidden_layers: 5\n",
      "    patch_size: 3\n",
      "    pretrained_path: ./checkpoints/recon_madversary_2_best_random.pt\n",
      "  warmup_steps: 1000\n",
      "a: 3\n",
      "dataset:\n",
      "  patch_size: 3\n",
      "  resolution: 36\n",
      "  resolution3: 36\n",
      "\n"
     ]
    }
   ],
   "source": [
    "config.print_config()"
   ],
   "metadata": {
    "collapsed": false,
    "ExecuteTime": {
     "start_time": "2023-04-18T17:26:31.194834Z",
     "end_time": "2023-04-18T17:26:31.208975Z"
    }
   }
  },
  {
   "cell_type": "code",
   "execution_count": 24,
   "outputs": [
    {
     "data": {
      "text/plain": "{'dataset.resolution', 'dataset.resolution3'}"
     },
     "execution_count": 24,
     "metadata": {},
     "output_type": "execute_result"
    }
   ],
   "source": [
    "config._called_params"
   ],
   "metadata": {
    "collapsed": false,
    "ExecuteTime": {
     "start_time": "2023-04-18T17:27:16.791652Z",
     "end_time": "2023-04-18T17:27:16.833152Z"
    }
   }
  },
  {
   "cell_type": "code",
   "execution_count": 5,
   "outputs": [
    {
     "name": "stdout",
     "output_type": "stream",
     "text": [
      "data:\n",
      "  train:\n",
      "    dataset:\n",
      "      batch_size: 32\n",
      "      name: MyDataset\n",
      "      size: 1000\n",
      "model:\n",
      "  layers:\n",
      "  - mask_prob: 0.2\n",
      "    name: masker\n",
      "    num_heads: 8\n",
      "    num_layers: 12\n",
      "    size: 512\n",
      "    type: ViTMAE\n",
      "  - mask_prob: 0.0\n",
      "    name: reconstructor\n",
      "    num_heads: 8\n",
      "    num_layers: 12\n",
      "    size: 512\n",
      "    type: ViTMAE\n",
      "  name: MyViTMAEModel\n",
      "  name2: gege\n",
      "optimizer:\n",
      "  learning_rate: 0.001\n",
      "  name: Adam\n",
      "\n"
     ]
    }
   ],
   "source": [
    "config.print_config()\n"
   ],
   "metadata": {
    "collapsed": false
   }
  },
  {
   "cell_type": "code",
   "execution_count": 6,
   "outputs": [
    {
     "name": "stdout",
     "output_type": "stream",
     "text": [
      "\u001B[33mUnused Parameters:\u001B[0m\n"
     ]
    },
    {
     "ename": "KeyError",
     "evalue": "'model.name'",
     "output_type": "error",
     "traceback": [
      "\u001B[0;31m---------------------------------------------------------------------------\u001B[0m",
      "\u001B[0;31mKeyError\u001B[0m                                  Traceback (most recent call last)",
      "Cell \u001B[0;32mIn[6], line 1\u001B[0m\n\u001B[0;32m----> 1\u001B[0m \u001B[43mconfig\u001B[49m\u001B[38;5;241;43m.\u001B[39;49m\u001B[43munused_params\u001B[49m\u001B[43m(\u001B[49m\u001B[43m)\u001B[49m\n",
      "File \u001B[0;32m~/phd/motion-encoder/configs/uconfig.py:41\u001B[0m, in \u001B[0;36mYamlConfig.unused_params\u001B[0;34m(self)\u001B[0m\n\u001B[1;32m     39\u001B[0m unused \u001B[38;5;241m=\u001B[39m unused_helper(\u001B[38;5;28mself\u001B[39m\u001B[38;5;241m.\u001B[39m_config_dict)\n\u001B[1;32m     40\u001B[0m \u001B[38;5;28mprint\u001B[39m(colored(\u001B[38;5;124m\"\u001B[39m\u001B[38;5;124mUnused Parameters:\u001B[39m\u001B[38;5;124m\"\u001B[39m, \u001B[38;5;124m\"\u001B[39m\u001B[38;5;124myellow\u001B[39m\u001B[38;5;124m\"\u001B[39m))\n\u001B[0;32m---> 41\u001B[0m \u001B[38;5;28mprint\u001B[39m(yaml\u001B[38;5;241m.\u001B[39mdump({param: \u001B[38;5;28mself\u001B[39m\u001B[38;5;241m.\u001B[39m_config_dict[param] \u001B[38;5;28;01mfor\u001B[39;00m param \u001B[38;5;129;01min\u001B[39;00m unused}, default_flow_style\u001B[38;5;241m=\u001B[39m\u001B[38;5;28;01mFalse\u001B[39;00m))\n\u001B[1;32m     42\u001B[0m \u001B[38;5;28;01mreturn\u001B[39;00m unused\n",
      "File \u001B[0;32m~/phd/motion-encoder/configs/uconfig.py:41\u001B[0m, in \u001B[0;36m<dictcomp>\u001B[0;34m(.0)\u001B[0m\n\u001B[1;32m     39\u001B[0m unused \u001B[38;5;241m=\u001B[39m unused_helper(\u001B[38;5;28mself\u001B[39m\u001B[38;5;241m.\u001B[39m_config_dict)\n\u001B[1;32m     40\u001B[0m \u001B[38;5;28mprint\u001B[39m(colored(\u001B[38;5;124m\"\u001B[39m\u001B[38;5;124mUnused Parameters:\u001B[39m\u001B[38;5;124m\"\u001B[39m, \u001B[38;5;124m\"\u001B[39m\u001B[38;5;124myellow\u001B[39m\u001B[38;5;124m\"\u001B[39m))\n\u001B[0;32m---> 41\u001B[0m \u001B[38;5;28mprint\u001B[39m(yaml\u001B[38;5;241m.\u001B[39mdump({param: \u001B[38;5;28;43mself\u001B[39;49m\u001B[38;5;241;43m.\u001B[39;49m\u001B[43m_config_dict\u001B[49m\u001B[43m[\u001B[49m\u001B[43mparam\u001B[49m\u001B[43m]\u001B[49m \u001B[38;5;28;01mfor\u001B[39;00m param \u001B[38;5;129;01min\u001B[39;00m unused}, default_flow_style\u001B[38;5;241m=\u001B[39m\u001B[38;5;28;01mFalse\u001B[39;00m))\n\u001B[1;32m     42\u001B[0m \u001B[38;5;28;01mreturn\u001B[39;00m unused\n",
      "\u001B[0;31mKeyError\u001B[0m: 'model.name'"
     ]
    }
   ],
   "source": [
    "config.unused_params()"
   ],
   "metadata": {
    "collapsed": false
   }
  },
  {
   "cell_type": "code",
   "execution_count": 5,
   "outputs": [],
   "source": [],
   "metadata": {
    "collapsed": false
   }
  },
  {
   "cell_type": "code",
   "execution_count": 8,
   "outputs": [
    {
     "ename": "ImportError",
     "evalue": "cannot import name 'Config' from 'configs.uconfig' (/home/maxim/phd/motion-encoder/configs/uconfig.py)",
     "output_type": "error",
     "traceback": [
      "\u001B[0;31m---------------------------------------------------------------------------\u001B[0m",
      "\u001B[0;31mImportError\u001B[0m                               Traceback (most recent call last)",
      "Cell \u001B[0;32mIn[8], line 1\u001B[0m\n\u001B[0;32m----> 1\u001B[0m \u001B[38;5;28;01mfrom\u001B[39;00m \u001B[38;5;21;01mconfigs\u001B[39;00m\u001B[38;5;21;01m.\u001B[39;00m\u001B[38;5;21;01muconfig\u001B[39;00m \u001B[38;5;28;01mimport\u001B[39;00m Config\n\u001B[1;32m      3\u001B[0m config2 \u001B[38;5;241m=\u001B[39m Config\u001B[38;5;241m.\u001B[39mfrom_cfg(\u001B[38;5;124m\"\u001B[39m\u001B[38;5;124mvit_madversary_clustering.yaml\u001B[39m\u001B[38;5;124m\"\u001B[39m)\n",
      "\u001B[0;31mImportError\u001B[0m: cannot import name 'Config' from 'configs.uconfig' (/home/maxim/phd/motion-encoder/configs/uconfig.py)"
     ]
    }
   ],
   "source": [
    "from configs.uconfig import Config\n",
    "\n",
    "config2 = Config.from_cfg(\"vit_madversary_clustering.yaml\")\n"
   ],
   "metadata": {
    "collapsed": false
   }
  },
  {
   "cell_type": "code",
   "execution_count": null,
   "outputs": [],
   "source": [],
   "metadata": {
    "collapsed": false
   }
  }
 ],
 "metadata": {
  "kernelspec": {
   "display_name": "Python 3",
   "language": "python",
   "name": "python3"
  },
  "language_info": {
   "codemirror_mode": {
    "name": "ipython",
    "version": 2
   },
   "file_extension": ".py",
   "mimetype": "text/x-python",
   "name": "python",
   "nbconvert_exporter": "python",
   "pygments_lexer": "ipython2",
   "version": "2.7.6"
  }
 },
 "nbformat": 4,
 "nbformat_minor": 0
}
